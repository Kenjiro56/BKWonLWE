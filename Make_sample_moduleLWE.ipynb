{
 "cells": [
  {
   "cell_type": "code",
   "execution_count": 1,
   "metadata": {},
   "outputs": [],
   "source": [
    "from sage.stats.distributions.discrete_gaussian_polynomial  import DiscreteGaussianDistributionPolynomialSampler\n",
    "import csv\n",
    "import numpy as np"
   ]
  },
  {
   "cell_type": "code",
   "execution_count": 2,
   "metadata": {},
   "outputs": [],
   "source": [
    "k = 5 #k = 8 -> 128 7 -> 64\n",
    "m = euler_phi(2^k)\n",
    "q = 1997\n",
    "sigma = 8 / sqrt(2*pi)\n",
    "d = 2 #ベクトルa,sの次元\n",
    "\n",
    "F.<X> = PolynomialRing(GF(q))\n",
    "R.<x> = F.quotient(X^(m)+1)"
   ]
  },
  {
   "cell_type": "code",
   "execution_count": 3,
   "metadata": {},
   "outputs": [],
   "source": [
    "# 一様分布\n",
    "def uniform_distribution():\n",
    "    return R.random_element()"
   ]
  },
  {
   "cell_type": "code",
   "execution_count": 4,
   "metadata": {},
   "outputs": [],
   "source": [
    "# ガウス分布\n",
    "def normal_distribution():\n",
    "    return DiscreteGaussianDistributionPolynomialSampler(R,m,sigma)()"
   ]
  },
  {
   "cell_type": "code",
   "execution_count": 5,
   "metadata": {},
   "outputs": [],
   "source": [
    "def Convert_Matrix(a,s,n,q):\n",
    "    G.<X> = PolynomialRing(GF(q))\n",
    "    P.<x> = G.quotient(X^n + 1)\n",
    "    K = PolynomialRing(P,'t',n)\n",
    "    \n",
    "    y = G.gens()\n",
    "    t = K.gens()\n",
    "    a_y,s_t = a[0],t[0]\n",
    "    \n",
    "    for i in range(1,n):\n",
    "        a_y += a[i]*y[0]^i\n",
    "        s_t += t[i]*y[0]^i\n",
    "    \n",
    "    f = a_y*s_t\n",
    "    v = []\n",
    "    f_l = len(f.coefficients())\n",
    "    for i in range(f_l):\n",
    "        for j in range(n):\n",
    "            v.append(f.coefficients()[i][j])\n",
    "            \n",
    "    A = matrix(GF(q),f_l,v)\n",
    "    return A"
   ]
  },
  {
   "cell_type": "code",
   "execution_count": 6,
   "metadata": {},
   "outputs": [],
   "source": [
    "def vec_topoly(a,n):\n",
    "    G.<X> = PolynomialRing(GF(q))\n",
    "    P.<x> = G.quotient(X^n + 1)\n",
    "    poly = a[0]\n",
    "    for i in range(1,n/2):\n",
    "            poly = poly + a[i]*(x^i + x^(-i)) \n",
    "    return poly"
   ]
  },
  {
   "cell_type": "code",
   "execution_count": 7,
   "metadata": {},
   "outputs": [],
   "source": [
    "def poly_tovec(poly,n):\n",
    "    b = []\n",
    "    for i in range(n/2):\n",
    "            b.append(poly[i])\n",
    "    return vector(b)"
   ]
  },
  {
   "cell_type": "code",
   "execution_count": 8,
   "metadata": {},
   "outputs": [],
   "source": [
    "def make_sample(n,D,q):\n",
    "    G.<X> = PolynomialRing(GF(q))\n",
    "    P.<x> = G.quotient(X^n + 1)\n",
    "    K = PolynomialRing(P,'t',n)\n",
    "    \n",
    "    t = K.gens()\n",
    "    a=0\n",
    "    for i in range(D):\n",
    "        a+=t[i]*(uniform_distribution())\n",
    "    return a.coefficients()"
   ]
  },
  {
   "cell_type": "code",
   "execution_count": 9,
   "metadata": {},
   "outputs": [],
   "source": [
    "def make_sec(n,D,q):\n",
    "    G.<X> = PolynomialRing(GF(q))\n",
    "    P.<x> = G.quotient(X^n+1)\n",
    "    K = PolynomialRing(P,'t',n)\n",
    "    \n",
    "    t = K.gens()\n",
    "    s=0\n",
    "    for i in range(D):\n",
    "        s+=t[i]*(normal_distribution())\n",
    "    return s.coefficients()"
   ]
  },
  {
   "cell_type": "code",
   "execution_count": 10,
   "metadata": {},
   "outputs": [],
   "source": [
    "def make_error(m,d,q):\n",
    "    e=normal_distribution()\n",
    "    return e"
   ]
  },
  {
   "cell_type": "code",
   "execution_count": 11,
   "metadata": {},
   "outputs": [],
   "source": [
    "for k in range(100):\n",
    "    s=make_sec(m,d,q)\n",
    "    a1=make_sample(m,d,q)\n",
    "    a2=make_sample(m,d,q)\n",
    "    a3=make_sample(m,d,q)\n",
    "    a4=make_sample(m,d,q)\n",
    "    for i in range(d):\n",
    "        A1=Convert_Matrix(a1[i],s[i],m,q)\n",
    "        A2=Convert_Matrix(a2[i],s[i],m,q)\n",
    "        A3=Convert_Matrix(a3[i],s[i],m,q)\n",
    "        A4=Convert_Matrix(a4[i],s[i],m,q)\n",
    "\n",
    "    #for x in range(m):\n",
    "      #  for y in range()"
   ]
  },
  {
   "cell_type": "code",
   "execution_count": 12,
   "metadata": {},
   "outputs": [
    {
     "name": "stdout",
     "output_type": "stream",
     "text": [
      "[1698*x^15 + 79*x^14 + 409*x^13 + 1076*x^12 + 1554*x^11 + 46*x^10 + 708*x^9 + 838*x^8 + 1706*x^7 + 754*x^6 + 655*x^5 + 1213*x^4 + 180*x^3 + 1765*x^2 + 379*x + 991, 1183*x^15 + 1888*x^14 + 1764*x^13 + 920*x^12 + 1690*x^11 + 234*x^10 + 1968*x^9 + 1864*x^8 + 1032*x^7 + 988*x^6 + 1872*x^5 + 1725*x^4 + 405*x^3 + 1325*x^2 + 547*x + 17]\n"
     ]
    }
   ],
   "source": [
    "print(a1)"
   ]
  },
  {
   "cell_type": "code",
   "execution_count": 425,
   "metadata": {},
   "outputs": [],
   "source": [
    "for k in range(100):\n",
    "    s=make_sec(m,d,q)\n",
    "    a1=make_sample(m,d,q)\n",
    "    a2=make_sample(m,d,q)\n",
    "    a3=make_sample(m,d,q)\n",
    "    a4=make_sample(m,d,q)\n",
    "    for i in range(d):\n",
    "        A1=Convert_Matrix(a1[i],s[i],m,q)\n",
    "        A2=Convert_Matrix(a2[i],s[i],m,q)\n",
    "        A3=Convert_Matrix(a3[i],s[i],m,q)\n",
    "        A4=Convert_Matrix(a4[i],s[i],m,q)\n",
    "        with open('Sample_A1.txt','a',encoding='utf-8') as f1:\n",
    "            writer=csv.writer(f1)\n",
    "            writer.writerows(A1)\n",
    "        \n",
    "        with open('Sample_A2.txt','a',encoding='utf-8') as f2:\n",
    "            writer=csv.writer(f2)\n",
    "            writer.writerows(A2)\n",
    "            \n",
    "        with open('Sample_A3.txt','a',encoding='utf-8') as f7:\n",
    "            writer=csv.writer(f7)\n",
    "            writer.writerows(A3)\n",
    "        \n",
    "        with open('Sample_A4.txt','a',encoding='utf-8') as f8:\n",
    "            writer=csv.writer(f8)\n",
    "            writer.writerows(A4)\n",
    "                \n",
    "    e1=normal_distribution()\n",
    "    e2=normal_distribution()\n",
    "    e3=normal_distribution()\n",
    "    e4=normal_distribution()\n",
    "    poly_b1=vector(a1)*vector(s)+e1\n",
    "    poly_b2=vector(a2)*vector(s)+e2\n",
    "    poly_b3=vector(a3)*vector(s)+e3\n",
    "    poly_b4=vector(a4)*vector(s)+e4\n",
    "    \n",
    "   \n",
    "    \n",
    "    with open('Sample_b1.txt','a',encoding='utf-8') as f3:\n",
    "        writer=csv.writer(f3)\n",
    "        writer.writerows(matrix(GF(q),1,vector(poly_b1)))\n",
    "\n",
    "    with open('Sample_b2.txt','a',encoding='utf-8') as f4:\n",
    "        writer=csv.writer(f4)\n",
    "        writer.writerows(matrix(GF(q),1,vector(poly_b2)))\n",
    "        \n",
    "    with open('Sample_b3.txt','a',encoding='utf-8') as f9:\n",
    "        writer=csv.writer(f9)\n",
    "        writer.writerows(matrix(GF(q),1,vector(poly_b3)))\n",
    "        \n",
    "    with open('Sample_b4.txt','a',encoding='utf-8') as f10:\n",
    "        writer=csv.writer(f10)\n",
    "        writer.writerows(matrix(GF(q),1,vector(poly_b4)))\n",
    "    \n",
    "    with open('error1.txt','a',encoding='utf-8') as f5:\n",
    "        writer=csv.writer(f5)\n",
    "        writer.writerows(matrix(GF(q),1,vector(e1)))\n",
    "    \n",
    "    with open('error2.txt','a',encoding='utf-8') as f6:\n",
    "        writer=csv.writer(f6)\n",
    "        writer.writerows(matrix(GF(q),1,vector(e2)))\n",
    "        \n",
    "    with open('error3.txt','a',encoding='utf-8') as f11:\n",
    "        writer=csv.writer(f11)\n",
    "        writer.writerows(matrix(GF(q),1,vector(e3)))\n",
    "        \n",
    "    with open('error4.txt','a',encoding='utf-8') as f12:\n",
    "        writer=csv.writer(f12)\n",
    "        writer.writerows(matrix(GF(q),1,vector(e4)))\n",
    "    \n",
    "parameters = []\n",
    "parameters.append(q)\n",
    "parameters.append(m)\n",
    "paraM = matrix(ZZ,1,parameters)\n",
    "with open('parameters.txt','w', encoding='utf-8') as f1:\n",
    "    writer = csv.writer(f1)\n",
    "    writer.writerows(paraM)"
   ]
  },
  {
   "cell_type": "code",
   "execution_count": 366,
   "metadata": {},
   "outputs": [],
   "source": [
    "def swap(v,D):\n",
    "    if D%2==0:\n",
    "        for i in range(D/2):\n",
    "            a=v[i]\n",
    "            v[i]=v[D-i-1]\n",
    "            v[D-i-1]=a\n",
    "    else:\n",
    "        for i in range((D-1)/2):\n",
    "            a=v[i]\n",
    "            v[i]=v[D-i-1]\n",
    "            v[D-i-1]=a\n",
    "    return v"
   ]
  }
 ],
 "metadata": {
  "kernelspec": {
   "display_name": "Python 3",
   "language": "python",
   "name": "python3"
  },
  "language_info": {
   "codemirror_mode": {
    "name": "ipython",
    "version": 3
   },
   "file_extension": ".py",
   "mimetype": "text/x-python",
   "name": "python",
   "nbconvert_exporter": "python",
   "pygments_lexer": "ipython3",
   "version": "3.10.4"
  }
 },
 "nbformat": 4,
 "nbformat_minor": 4
}
